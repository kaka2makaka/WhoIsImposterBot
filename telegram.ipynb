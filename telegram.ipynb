{
  "nbformat": 4,
  "nbformat_minor": 0,
  "metadata": {
    "colab": {
      "name": "telegram.ipynb",
      "provenance": []
    },
    "kernelspec": {
      "name": "python3",
      "display_name": "Python 3"
    }
  },
  "cells": [
    {
      "cell_type": "code",
      "metadata": {
        "colab": {
          "base_uri": "https://localhost:8080/"
        },
        "id": "hXgp-uWOxznr",
        "outputId": "460c7aba-8821-4f42-a8c2-cbf5ede258b6"
      },
      "source": [
        "! pip install python-telegram-bot --upgrade"
      ],
      "execution_count": 1,
      "outputs": [
        {
          "output_type": "stream",
          "text": [
            "Collecting python-telegram-bot\n",
            "\u001b[?25l  Downloading https://files.pythonhosted.org/packages/0a/d4/2fe358d6ca43553c86c852990dc62242bc1bdd458f758574fdf2bb5abcc4/python_telegram_bot-13.3-py3-none-any.whl (436kB)\n",
            "\r\u001b[K     |▊                               | 10kB 15.5MB/s eta 0:00:01\r\u001b[K     |█▌                              | 20kB 11.7MB/s eta 0:00:01\r\u001b[K     |██▎                             | 30kB 10.4MB/s eta 0:00:01\r\u001b[K     |███                             | 40kB 9.2MB/s eta 0:00:01\r\u001b[K     |███▊                            | 51kB 5.5MB/s eta 0:00:01\r\u001b[K     |████▌                           | 61kB 5.6MB/s eta 0:00:01\r\u001b[K     |█████▎                          | 71kB 6.1MB/s eta 0:00:01\r\u001b[K     |██████                          | 81kB 6.0MB/s eta 0:00:01\r\u001b[K     |██████▊                         | 92kB 6.3MB/s eta 0:00:01\r\u001b[K     |███████▌                        | 102kB 5.3MB/s eta 0:00:01\r\u001b[K     |████████▎                       | 112kB 5.3MB/s eta 0:00:01\r\u001b[K     |█████████                       | 122kB 5.3MB/s eta 0:00:01\r\u001b[K     |█████████▊                      | 133kB 5.3MB/s eta 0:00:01\r\u001b[K     |██████████▌                     | 143kB 5.3MB/s eta 0:00:01\r\u001b[K     |███████████▎                    | 153kB 5.3MB/s eta 0:00:01\r\u001b[K     |████████████                    | 163kB 5.3MB/s eta 0:00:01\r\u001b[K     |████████████▊                   | 174kB 5.3MB/s eta 0:00:01\r\u001b[K     |█████████████▌                  | 184kB 5.3MB/s eta 0:00:01\r\u001b[K     |██████████████▎                 | 194kB 5.3MB/s eta 0:00:01\r\u001b[K     |███████████████                 | 204kB 5.3MB/s eta 0:00:01\r\u001b[K     |███████████████▊                | 215kB 5.3MB/s eta 0:00:01\r\u001b[K     |████████████████▌               | 225kB 5.3MB/s eta 0:00:01\r\u001b[K     |█████████████████▎              | 235kB 5.3MB/s eta 0:00:01\r\u001b[K     |██████████████████              | 245kB 5.3MB/s eta 0:00:01\r\u001b[K     |██████████████████▊             | 256kB 5.3MB/s eta 0:00:01\r\u001b[K     |███████████████████▌            | 266kB 5.3MB/s eta 0:00:01\r\u001b[K     |████████████████████▎           | 276kB 5.3MB/s eta 0:00:01\r\u001b[K     |█████████████████████           | 286kB 5.3MB/s eta 0:00:01\r\u001b[K     |█████████████████████▉          | 296kB 5.3MB/s eta 0:00:01\r\u001b[K     |██████████████████████▌         | 307kB 5.3MB/s eta 0:00:01\r\u001b[K     |███████████████████████▎        | 317kB 5.3MB/s eta 0:00:01\r\u001b[K     |████████████████████████        | 327kB 5.3MB/s eta 0:00:01\r\u001b[K     |████████████████████████▉       | 337kB 5.3MB/s eta 0:00:01\r\u001b[K     |█████████████████████████▌      | 348kB 5.3MB/s eta 0:00:01\r\u001b[K     |██████████████████████████▎     | 358kB 5.3MB/s eta 0:00:01\r\u001b[K     |███████████████████████████     | 368kB 5.3MB/s eta 0:00:01\r\u001b[K     |███████████████████████████▉    | 378kB 5.3MB/s eta 0:00:01\r\u001b[K     |████████████████████████████▌   | 389kB 5.3MB/s eta 0:00:01\r\u001b[K     |█████████████████████████████▎  | 399kB 5.3MB/s eta 0:00:01\r\u001b[K     |██████████████████████████████  | 409kB 5.3MB/s eta 0:00:01\r\u001b[K     |██████████████████████████████▉ | 419kB 5.3MB/s eta 0:00:01\r\u001b[K     |███████████████████████████████▌| 430kB 5.3MB/s eta 0:00:01\r\u001b[K     |████████████████████████████████| 440kB 5.3MB/s \n",
            "\u001b[?25hRequirement already satisfied, skipping upgrade: pytz>=2018.6 in /usr/local/lib/python3.7/dist-packages (from python-telegram-bot) (2018.9)\n",
            "Collecting APScheduler==3.6.3\n",
            "\u001b[?25l  Downloading https://files.pythonhosted.org/packages/f3/34/9ef20ed473c4fd2c3df54ef77a27ae3fc7500b16b192add4720cab8b2c09/APScheduler-3.6.3-py2.py3-none-any.whl (58kB)\n",
            "\u001b[K     |████████████████████████████████| 61kB 5.3MB/s \n",
            "\u001b[?25hRequirement already satisfied, skipping upgrade: tornado>=5.1 in /usr/local/lib/python3.7/dist-packages (from python-telegram-bot) (5.1.1)\n",
            "Requirement already satisfied, skipping upgrade: certifi in /usr/local/lib/python3.7/dist-packages (from python-telegram-bot) (2020.12.5)\n",
            "Requirement already satisfied, skipping upgrade: six>=1.4.0 in /usr/local/lib/python3.7/dist-packages (from APScheduler==3.6.3->python-telegram-bot) (1.15.0)\n",
            "Requirement already satisfied, skipping upgrade: setuptools>=0.7 in /usr/local/lib/python3.7/dist-packages (from APScheduler==3.6.3->python-telegram-bot) (53.0.0)\n",
            "Requirement already satisfied, skipping upgrade: tzlocal>=1.2 in /usr/local/lib/python3.7/dist-packages (from APScheduler==3.6.3->python-telegram-bot) (1.5.1)\n",
            "Installing collected packages: APScheduler, python-telegram-bot\n",
            "Successfully installed APScheduler-3.6.3 python-telegram-bot-13.3\n"
          ],
          "name": "stdout"
        }
      ]
    },
    {
      "cell_type": "code",
      "metadata": {
        "id": "07VcyngEx4wh"
      },
      "source": [
        "from telegram.ext import Updater\r\n",
        "updater = Updater(token='1651276125:AAFI2BuDeVs46--yHQU6cQg4C9EdHB_slLQ', use_context=True)"
      ],
      "execution_count": 2,
      "outputs": []
    },
    {
      "cell_type": "code",
      "metadata": {
        "id": "5VxqNQ4-ycos"
      },
      "source": [
        "dispatcher = updater.dispatcher"
      ],
      "execution_count": 3,
      "outputs": []
    },
    {
      "cell_type": "code",
      "metadata": {
        "id": "DUcsq-wTyjnz"
      },
      "source": [
        "import logging\r\n",
        "logging.basicConfig(format='%(asctime)s - %(name)s - %(levelname)s - %(message)s',\r\n",
        "                     level=logging.INFO)"
      ],
      "execution_count": 4,
      "outputs": []
    },
    {
      "cell_type": "code",
      "metadata": {
        "id": "hxiYPrGtyl-j"
      },
      "source": [
        "def start(update, context):\r\n",
        "    context.bot.send_message(chat_id=update.effective_chat.id, text=\"Ведётся поиск в базе данных\")\r\n",
        "    context.bot.send_message(chat_id=update.effective_chat.id, text=\"Не может быть!\")\r\n",
        "    # Интеллектуальный анализ и выбор пидора\r\n",
        "    context.bot.send_message(chat_id=update.effective_chat.id, text=\"Что? Где? Когда? А вы все лучшие люди дня - Vladimir Putin\")"
      ],
      "execution_count": 5,
      "outputs": []
    },
    {
      "cell_type": "code",
      "metadata": {
        "id": "WmjRTfEKyngx"
      },
      "source": [
        "from telegram.ext import CommandHandler\r\n",
        "start_handler = CommandHandler('whoisbest', start)\r\n",
        "dispatcher.add_handler(start_handler)"
      ],
      "execution_count": 6,
      "outputs": []
    },
    {
      "cell_type": "code",
      "metadata": {
        "colab": {
          "base_uri": "https://localhost:8080/"
        },
        "id": "j5HegbHNyqZ5",
        "outputId": "b6003414-db3c-41da-b9ff-1c3aab40a0f0"
      },
      "source": [
        "updater.start_polling()"
      ],
      "execution_count": 7,
      "outputs": [
        {
          "output_type": "stream",
          "text": [
            "2021-03-02 15:11:47,281 - apscheduler.scheduler - INFO - Scheduler started\n"
          ],
          "name": "stderr"
        },
        {
          "output_type": "execute_result",
          "data": {
            "text/plain": [
              "<queue.Queue at 0x7efca17ba750>"
            ]
          },
          "metadata": {
            "tags": []
          },
          "execution_count": 7
        }
      ]
    },
    {
      "cell_type": "code",
      "metadata": {
        "id": "af_rCrssysGp"
      },
      "source": [
        ""
      ],
      "execution_count": 7,
      "outputs": []
    }
  ]
}
